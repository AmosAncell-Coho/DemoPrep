{
 "cells": [
  {
   "cell_type": "code",
   "execution_count": null,
   "id": "c1f6a5c9",
   "metadata": {},
   "outputs": [],
   "source": [
    "print('hello world')\n",
    "print('this is a change to the first cell')"
   ]
  },
  {
   "cell_type": "code",
   "execution_count": null,
   "id": "f8737c27",
   "metadata": {},
   "outputs": [],
   "source": [
    "print('this is a second cell')"
   ]
  }
 ],
 "metadata": {
  "language_info": {
   "name": "python"
  }
 },
 "nbformat": 4,
 "nbformat_minor": 5
}
